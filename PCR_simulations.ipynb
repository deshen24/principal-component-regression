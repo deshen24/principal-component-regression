{
 "cells": [
  {
   "cell_type": "code",
   "execution_count": 62,
   "metadata": {},
   "outputs": [],
   "source": [
    "import numpy as np\n",
    "import matplotlib.pyplot as plt"
   ]
  },
  {
   "cell_type": "markdown",
   "metadata": {},
   "source": [
    "# General Methods"
   ]
  },
  {
   "cell_type": "code",
   "execution_count": 64,
   "metadata": {},
   "outputs": [],
   "source": [
    "\"\"\" Generate Data \"\"\"\n",
    "\n",
    "# generate train covariates \n",
    "def train_covariates(n, p, r): \n",
    "    U = np.random.normal(size=(n,r))\n",
    "    V = np.random.normal(size=(p,r))\n",
    "    X = U @ V.T\n",
    "    return (X, U, V)                        \n",
    "\n",
    "# generate observations\n",
    "def add_noise(X, sigma=0.2):\n",
    "    return X + np.random.normal(0, sigma, size=X.shape)"
   ]
  },
  {
   "cell_type": "code",
   "execution_count": 44,
   "metadata": {},
   "outputs": [],
   "source": [
    "\"\"\" Compute k \"\"\"\n",
    "\n",
    "def donoho_rank(s, ratio): \n",
    "    \"\"\"\n",
    "    Retain all singular values above optimal threshold as per Donoho & Gavin '14:\n",
    "    https://arxiv.org/pdf/1305.5870.pdf\n",
    "    \"\"\" \n",
    "    omega = 0.56*ratio**3 - 0.95*ratio**2 + 1.43 + 1.82*ratio\n",
    "    t = omega * np.median(s) \n",
    "    rank = max(len(s[s>t]), 1)\n",
    "    return rank \n",
    "\n",
    "def spectral_rank(s, thresh=None):\n",
    "    if thresh==1.0: \n",
    "        rank = len(s)\n",
    "    else: \n",
    "        total_energy = (s**2).cumsum() / (s**2).sum()\n",
    "        rank = list((total_energy>thresh)).index(True) + 1\n",
    "    return rank"
   ]
  },
  {
   "cell_type": "code",
   "execution_count": 45,
   "metadata": {},
   "outputs": [],
   "source": [
    "\"\"\" Algorithms \"\"\"\n",
    "\n",
    "# PCR\n",
    "def pcr(Z, y, max_rank=None, thresh=None):\n",
    "    # de-noise X\n",
    "    (u, s, v) = np.linalg.svd(Z, full_matrices=False)\n",
    "    if max_rank is not None: \n",
    "        rank = max_rank \n",
    "    if thresh is not None: \n",
    "        rank = _spectral_rank(s, thresh=thresh)\n",
    "    else: \n",
    "        (m, n) = Z.shape \n",
    "        rank = donoho_rank(s, ratio=m/n)\n",
    "    s_rank = s[:rank]\n",
    "    u_rank = u[:, :rank]\n",
    "    v_rank = v[:rank, :] \n",
    "    beta = ((v_rank.T/s_rank) @ u_rank.T) @ y\n",
    "    return beta \n",
    "\n",
    "# HSVT\n",
    "def hsvt(Z, max_rank=None, thresh=None):\n",
    "    (u, s, v) = np.linalg.svd(Z, full_matrices=False)\n",
    "    if max_rank is not None: \n",
    "        rank = max_rank \n",
    "    if thresh is not None: \n",
    "        rank = spectral_rank(s, thresh=thresh)\n",
    "    else: \n",
    "        (m, n) = Z.shape \n",
    "        rank = donoho_rank(s, ratio=m/n)\n",
    "    s_rank = s[:rank]\n",
    "    u_rank = u[:, :rank]\n",
    "    v_rank = v[:rank, :] \n",
    "    X_hat = (u_rank * s_rank) @ v_rank\n",
    "    return (X_hat, rank)"
   ]
  },
  {
   "cell_type": "code",
   "execution_count": 46,
   "metadata": {},
   "outputs": [],
   "source": [
    "\"\"\" Evaluation \"\"\"\n",
    "\n",
    "def param_est_error(beta, beta_hat): \n",
    "    return np.linalg.norm(beta_hat-beta)\n",
    "\n",
    "def mse(y, y_hat): \n",
    "    return np.mean((y-y_hat)**2)"
   ]
  },
  {
   "cell_type": "markdown",
   "metadata": {},
   "source": [
    "# SIMULATIONS"
   ]
  },
  {
   "cell_type": "markdown",
   "metadata": {},
   "source": [
    "### Model Identification"
   ]
  },
  {
   "cell_type": "code",
   "execution_count": 96,
   "metadata": {},
   "outputs": [],
   "source": [
    "# data\n",
    "p = 512\n",
    "r = 15\n",
    "sample_sizes = np.linspace(30, p, 8)\n",
    "sample_sizes = [int(n) for n in sample_sizes]\n",
    "\n",
    "# noise\n",
    "sigma = 0.2 \n",
    "\n",
    "# simulation parameters\n",
    "n_iters = 1000\n",
    "\n",
    "# initialize\n",
    "models = ['min norm model', 'random model']\n",
    "errs_dict = {model: np.zeros(len(sample_sizes)) for model in models}"
   ]
  },
  {
   "cell_type": "code",
   "execution_count": 97,
   "metadata": {},
   "outputs": [
    {
     "name": "stdout",
     "output_type": "stream",
     "text": [
      "Sample size: 30...\n",
      "Sample size: 98...\n",
      "Sample size: 167...\n",
      "Sample size: 236...\n",
      "Sample size: 305...\n",
      "Sample size: 374...\n",
      "Sample size: 443...\n",
      "Sample size: 512...\n",
      "Done!\n"
     ]
    }
   ],
   "source": [
    "# generate regression model\n",
    "beta = np.random.randn(p) \n",
    "beta /= np.linalg.norm(beta)\n",
    "\n",
    "# iterate through sample sizes\n",
    "for (idx, n) in enumerate(sample_sizes): \n",
    "    print(\"Sample size: {}...\".format(n))\n",
    "    \n",
    "    # generate underlying data\n",
    "    (X_train, _, _) = train_covariates(n, p, r)\n",
    "    beta_min = np.linalg.pinv(X_train) @ X_train @ beta\n",
    "\n",
    "    # iterate through different observation sets\n",
    "    errs_temp = {model: np.zeros(n_iters) for model in models}\n",
    "    \n",
    "    for i in range(n_iters): \n",
    "        \n",
    "        # corrupt data\n",
    "        Z_train = add_noise(X_train, sigma=sigma)\n",
    "        y_train = add_noise(X_train@beta, sigma=sigma)\n",
    "        \n",
    "        # PCR with oracle access \n",
    "        beta_hat = pcr(Z_train, y_train, max_rank=r)\n",
    "        \n",
    "        # evaluate\n",
    "        errs_temp['random model'][i] = param_est_error(beta_hat, beta) \n",
    "        errs_temp['min norm model'][i] = param_est_error(beta_hat, beta_min)\n",
    "        \n",
    "    # record means\n",
    "    for model in models: \n",
    "        errs_dict[model][idx] = np.median(errs_temp[model])\n",
    "        \n",
    "print(\"Done!\")"
   ]
  },
  {
   "cell_type": "code",
   "execution_count": 99,
   "metadata": {},
   "outputs": [
    {
     "data": {
      "image/png": "[encoded data removed]",
      "text/plain": [
       "<Figure size 600x400 with 1 Axes>"
      ]
     },
     "metadata": {
      "needs_background": "light"
     },
     "output_type": "display_data"
    }
   ],
   "source": [
    "plt.figure(dpi=100)\n",
    "for model in models:\n",
    "    plt.plot(sample_sizes, errs_dict[model], marker='.', label=model)\n",
    "plt.ylabel('Normalized MSE')\n",
    "plt.xlabel('Sample size $(n)$')\n",
    "plt.title('Model Identification')\n",
    "plt.legend(loc='best')\n",
    "plt.grid(color='grey', alpha=0.3)\n",
    "#plt.yscale(\"log\")\n",
    "plt.show()"
   ]
  },
  {
   "cell_type": "markdown",
   "metadata": {},
   "source": [
    "### Out-of-Sample Prediction: Covariate Shifts"
   ]
  },
  {
   "cell_type": "code",
   "execution_count": 100,
   "metadata": {},
   "outputs": [],
   "source": [
    "# data\n",
    "p = 512\n",
    "r = 15\n",
    "sample_sizes = np.linspace(30, p, 8)\n",
    "sample_sizes = [int(n) for n in sample_sizes]\n",
    "\n",
    "# noise\n",
    "sigma = 0.2 \n",
    "\n",
    "# simulation parameters\n",
    "n_iters = 1000\n",
    "\n",
    "# initialize\n",
    "models = ['normal_1', 'uniform_1', 'normal_10', 'uniform_10']\n",
    "errs_dict = {model: np.zeros(len(sample_sizes)) for model in models}\n",
    "\n",
    "# generate test covariates that obeys subspace inclusion \n",
    "def test_covariates(m, r, V, generative_noise_type):    \n",
    "    V_test = V[:, :r]\n",
    "    if generative_noise_type == 'normal_1':\n",
    "        U_test = np.random.normal(0, 1, size=(m,r))\n",
    "    elif generative_noise_type == 'normal_10':\n",
    "        U_test = np.random.normal(0, 5, size=(m,r))\n",
    "    elif generative_noise_type == 'uniform_1':\n",
    "        U_test = np.random.uniform(-np.sqrt(3), np.sqrt(3), size=(m,r))\n",
    "    elif generative_noise_type == 'uniform_10':\n",
    "        U_test = np.random.uniform(-np.sqrt(15), np.sqrt(15), size=(m,r))\n",
    "    A_test = U_test @ V_test.T   \n",
    "    return (A_test, U_test, V_test) "
   ]
  },
  {
   "cell_type": "code",
   "execution_count": 101,
   "metadata": {},
   "outputs": [
    {
     "name": "stdout",
     "output_type": "stream",
     "text": [
      "Sample size: 30...\n",
      "Model: normal_1...\n",
      "Model: uniform_1...\n",
      "Model: normal_10...\n",
      "Model: uniform_10...\n",
      "\n",
      "Sample size: 98...\n",
      "Model: normal_1...\n",
      "Model: uniform_1...\n",
      "Model: normal_10...\n",
      "Model: uniform_10...\n",
      "\n",
      "Sample size: 167...\n",
      "Model: normal_1...\n",
      "Model: uniform_1...\n",
      "Model: normal_10...\n",
      "Model: uniform_10...\n",
      "\n",
      "Sample size: 236...\n",
      "Model: normal_1...\n",
      "Model: uniform_1...\n",
      "Model: normal_10...\n",
      "Model: uniform_10...\n",
      "\n",
      "Sample size: 305...\n",
      "Model: normal_1...\n",
      "Model: uniform_1...\n",
      "Model: normal_10...\n",
      "Model: uniform_10...\n",
      "\n",
      "Sample size: 374...\n",
      "Model: normal_1...\n",
      "Model: uniform_1...\n",
      "Model: normal_10...\n",
      "Model: uniform_10...\n",
      "\n",
      "Sample size: 443...\n",
      "Model: normal_1...\n",
      "Model: uniform_1...\n",
      "Model: normal_10...\n",
      "Model: uniform_10...\n",
      "\n",
      "Sample size: 512...\n",
      "Model: normal_1...\n",
      "Model: uniform_1...\n",
      "Model: normal_10...\n",
      "Model: uniform_10...\n",
      "\n",
      "Done!\n"
     ]
    }
   ],
   "source": [
    "# generate model parameter\n",
    "beta = np.random.randn(p) \n",
    "beta /= np.linalg.norm(beta)\n",
    "\n",
    "# iterate through sample sizes\n",
    "for (idx, n) in enumerate(sample_sizes): \n",
    "    print(\"Sample size: {}...\".format(n))\n",
    "    \n",
    "    # generate underlying data\n",
    "    (X_train, U_train, V_train) = train_covariates(n, p, r)\n",
    "    \n",
    "    # iterate through noise models\n",
    "    for model in models:\n",
    "        print(\"Model: {}...\".format(model))\n",
    "        \n",
    "        # generate underlying data\n",
    "        (X_test, U_test, V_test) = test_covariates(n, r, V_train, model)\n",
    "        y_test = X_test @ beta\n",
    "        \n",
    "        # initialize \n",
    "        errs_temp = np.zeros(n_iters)\n",
    "        \n",
    "        # iterate through different observation sets \n",
    "        for i in range(n_iters): \n",
    "            \n",
    "            # corrupt data\n",
    "            Z_train = add_noise(X_train, sigma=sigma)\n",
    "            y_train = add_noise(X_train@beta, sigma=sigma)\n",
    "            Z_test = add_noise(X_test, sigma=sigma)\n",
    "            \n",
    "            # PCR: model identification w/o oracle access \n",
    "            beta_hat = pcr(Z_train, y_train)\n",
    "            \n",
    "            # PCR: OOS prediction w/o oracle access\n",
    "            (X_test_hat, _) = hsvt(Z_test)\n",
    "            y_test_hat = X_test_hat @ beta_hat\n",
    "            \n",
    "            # record error\n",
    "            errs_temp[i] = mse(y_test, y_test_hat)\n",
    "            \n",
    "        # record error\n",
    "        errs_dict[model][idx] = np.median(errs_temp)\n",
    "    print()\n",
    "print(\"Done!\")"
   ]
  },
  {
   "cell_type": "code",
   "execution_count": 103,
   "metadata": {},
   "outputs": [
    {
     "data": {
      "image/png": "[encoded data removed]",
      "text/plain": [
       "<Figure size 600x400 with 1 Axes>"
      ]
     },
     "metadata": {
      "needs_background": "light"
     },
     "output_type": "display_data"
    }
   ],
   "source": [
    "plt.figure(dpi=100)\n",
    "plt.plot(sample_sizes, errs_dict['normal_1'], marker='.', label= 'Normal$(0, 1)$')\n",
    "plt.plot(sample_sizes, errs_dict['uniform_1'], marker='.', label= 'Uniform$[-\\sqrt{3}, \\sqrt{3}]$')\n",
    "plt.plot(sample_sizes, errs_dict['normal_10'], marker='.', label= 'Normal$(0, 5)$')\n",
    "plt.plot(sample_sizes, errs_dict['uniform_10'], marker='.', label= 'Uniform$[-\\sqrt{15}, \\sqrt{15}]$')\n",
    "plt.ylabel('Out-of-sample MSE')\n",
    "plt.xlabel('Sample size $(n)$')\n",
    "plt.title('PCR under Covariate Shifts')\n",
    "plt.legend(loc='best')\n",
    "plt.yscale(\"log\")\n",
    "plt.grid(color='grey', alpha=0.3)\n",
    "plt.show()"
   ]
  },
  {
   "cell_type": "markdown",
   "metadata": {},
   "source": [
    "### Out-of-Sample Predictions: Subspace Inclusion vs. Distributional Invariance"
   ]
  },
  {
   "cell_type": "code",
   "execution_count": 93,
   "metadata": {},
   "outputs": [],
   "source": [
    "# data\n",
    "p = 512\n",
    "r = 15\n",
    "sample_sizes = np.linspace(30, p, 8)\n",
    "sample_sizes = [int(n) for n in sample_sizes]\n",
    "\n",
    "# noise\n",
    "sigma = 0.2 \n",
    "\n",
    "# simulation parameters\n",
    "n_iters = 1000\n",
    "\n",
    "# initialize\n",
    "models = ['subspace incl.', 'dist. invariance']\n",
    "errs_dict = {model: np.zeros(len(sample_sizes)) for model in models}"
   ]
  },
  {
   "cell_type": "code",
   "execution_count": 94,
   "metadata": {},
   "outputs": [
    {
     "name": "stdout",
     "output_type": "stream",
     "text": [
      "Sample size: 30...\n",
      "Sample size: 98...\n",
      "Sample size: 167...\n",
      "Sample size: 236...\n",
      "Sample size: 305...\n",
      "Sample size: 374...\n",
      "Sample size: 443...\n",
      "Sample size: 512...\n",
      "Done!\n"
     ]
    }
   ],
   "source": [
    "# generate model parameter\n",
    "beta = np.random.randn(p) \n",
    "beta /= np.linalg.norm(beta)\n",
    "\n",
    "# iterate through sample sizes\n",
    "for (idx, n) in enumerate(sample_sizes): \n",
    "    print(\"Sample size: {}...\".format(n))\n",
    "    \n",
    "    # generate train data\n",
    "    (X_train, U_train, V_train) = train_covariates(n, p, r)\n",
    "        \n",
    "    # generate test data: subspace inclusion\n",
    "    U_test1 = np.random.normal(0, 5, size=(n,r))\n",
    "    X_test1 = U_test1 @ V_train.T\n",
    "    y_test1 = X_test1 @ beta\n",
    "    \n",
    "    # generate test data: dist. invariance\n",
    "    V_test2 = np.random.normal(size=(p,r))\n",
    "    X_test2 = U_train @ V_test2.T\n",
    "    y_test2 = X_test2 @ beta\n",
    "    \n",
    "    # initialize\n",
    "    errs_temp = {model: np.zeros(n_iters) for model in models}\n",
    "    \n",
    "    # iterate through different observation sets \n",
    "    for i in range(n_iters): \n",
    "\n",
    "        # corrupt data\n",
    "        Z_train = add_noise(X_train, sigma=sigma)\n",
    "        y_train = add_noise(X_train@beta, sigma=sigma) \n",
    "        Z_test1 = add_noise(X_test1, sigma=sigma)\n",
    "        Z_test2 = add_noise(X_test2, sigma=sigma)\n",
    "\n",
    "        # PCR: model identification w/o oracle access \n",
    "        beta_hat = pcr(Z_train, y_train)\n",
    "\n",
    "        # PCR: OOS prediction w/o oracle access\n",
    "        (X_test1_hat, _) = hsvt(Z_test1)\n",
    "        y_test1_hat = X_test1_hat @ beta_hat\n",
    "        errs_temp['subspace incl.'][i] = mse(y_test1, y_test1_hat)\n",
    "        \n",
    "        (X_test2_hat, _) = hsvt(Z_test2)\n",
    "        y_test2_hat = X_test2_hat @ beta_hat\n",
    "        errs_temp['dist. invariance'][i] = mse(y_test2, y_test2_hat)\n",
    "  \n",
    "    # record error\n",
    "    errs_dict['subspace incl.'][idx] = np.median(errs_temp['subspace incl.'])\n",
    "    errs_dict['dist. invariance'][idx] = np.median(errs_temp['dist. invariance'])\n",
    "    \n",
    "print(\"Done!\")"
   ]
  },
  {
   "cell_type": "code",
   "execution_count": 95,
   "metadata": {},
   "outputs": [
    {
     "data": {
      "image/png": "[encoded data removed]",
      "text/plain": [
       "<Figure size 600x400 with 1 Axes>"
      ]
     },
     "metadata": {
      "needs_background": "light"
     },
     "output_type": "display_data"
    }
   ],
   "source": [
    "plt.figure(dpi=100)\n",
    "for model in models:\n",
    "    plt.plot(sample_sizes, errs_dict[model], marker='.', label=model)\n",
    "plt.ylabel('Out-of-sample MSE')\n",
    "plt.xlabel('Sample size $(n)$')\n",
    "plt.title('PCR under Subspace Inclusion vs. Distributional Invariance')\n",
    "plt.legend(loc='best')\n",
    "plt.grid(color='grey', alpha=0.3)\n",
    "plt.yscale(\"log\")\n",
    "plt.show()"
   ]
  },
  {
   "cell_type": "markdown",
   "metadata": {},
   "source": [
    "# CASE STUDIES"
   ]
  },
  {
   "cell_type": "code",
   "execution_count": 10,
   "metadata": {},
   "outputs": [],
   "source": [
    "import pandas as pd"
   ]
  },
  {
   "cell_type": "code",
   "execution_count": 24,
   "metadata": {},
   "outputs": [],
   "source": [
    "# user input\n",
    "data = 'Prop99'\n",
    "alpha = 0.05"
   ]
  },
  {
   "cell_type": "code",
   "execution_count": 25,
   "metadata": {},
   "outputs": [],
   "source": [
    "if data=='Basque':\n",
    "    treated_unit = 'Basque'\n",
    "elif data=='Prop99':\n",
    "    treated_unit = 'California'\n",
    "    \n",
    "fname_pre = 'data/{}/pre_outcomes.csv'.format(data)\n",
    "fname_post = 'data/{}/post_outcomes.csv'.format(data)\n",
    "df_pre = pd.read_csv(fname_pre)\n",
    "df_post = pd.read_csv(fname_post) "
   ]
  },
  {
   "cell_type": "code",
   "execution_count": 26,
   "metadata": {},
   "outputs": [
    {
     "name": "stdout",
     "output_type": "stream",
     "text": [
      "Rank of pre: 4\n",
      "Rank of post: 3\n",
      "tau(alpha): 0.15\n",
      "tau_hat: 1.63\n"
     ]
    }
   ],
   "source": [
    "# compute statistic \n",
    "def compute_tau_hat(X_train, X_test): \n",
    "    # train\n",
    "    H_train = np.linalg.pinv(X_train) @ X_train\n",
    "    H_train_perp = np.eye(X_train.shape[1]) - H_train\n",
    "    \n",
    "    # test\n",
    "    H_test = np.linalg.pinv(X_test) @ X_test\n",
    "    return np.linalg.norm(H_train_perp @ H_test, 'fro') ** 2\n",
    "\n",
    "# get pre- and post-intervention covariates \n",
    "units = df_post.unit.unique() \n",
    "donors = units[units!=treated_unit]\n",
    "pre_cols = list(df_pre.drop(columns=['unit']).columns)\n",
    "post_cols = list(df_post.drop(columns=['unit']).columns) \n",
    "Z_pre = df_pre.loc[df_pre['unit'].isin(donors)].drop(columns=['unit']).values.T \n",
    "Z_post = df_post.loc[df_post['unit'].isin(donors)].drop(columns=['unit']).values.T \n",
    "\n",
    "# compute statistic \n",
    "(X_pre_hat, rank_pre) = hsvt(Z_pre)\n",
    "(X_post_hat, rank_post) = hsvt(Z_post)\n",
    "tau = alpha * rank_post\n",
    "tau_hat = compute_tau_hat(X_pre_hat, X_post_hat)\n",
    "\n",
    "# report\n",
    "print(\"Rank of pre: {}\".format(rank_pre))\n",
    "print(\"Rank of post: {}\".format(rank_post))\n",
    "print(\"tau(alpha): {:.2f}\".format(tau))\n",
    "print(\"tau_hat: {:.2f}\".format(tau_hat))"
   ]
  },
  {
   "cell_type": "code",
   "execution_count": null,
   "metadata": {},
   "outputs": [],
   "source": []
  }
 ],
 "metadata": {
  "kernelspec": {
   "display_name": "Python 3",
   "language": "python",
   "name": "python3"
  },
  "language_info": {
   "codemirror_mode": {
    "name": "ipython",
    "version": 3
   },
   "file_extension": ".py",
   "mimetype": "text/x-python",
   "name": "python",
   "nbconvert_exporter": "python",
   "pygments_lexer": "ipython3",
   "version": "3.7.4"
  }
 },
 "nbformat": 4,
 "nbformat_minor": 2
}
