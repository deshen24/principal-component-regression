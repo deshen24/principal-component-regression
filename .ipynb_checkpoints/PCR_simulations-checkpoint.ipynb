{
 "cells": [
  {
   "cell_type": "code",
   "execution_count": 1,
   "metadata": {},
   "outputs": [],
   "source": [
    "import numpy as np\n",
    "import matplotlib.pyplot as plt"
   ]
  },
  {
   "cell_type": "code",
   "execution_count": 2,
   "metadata": {},
   "outputs": [],
   "source": [
    "\"\"\" Generate Data \"\"\"\n",
    "# generate train covariates \n",
    "def train_covariates(n, p, r): \n",
    "    U = np.random.normal(size=(n,r))\n",
    "    V = np.random.normal(size=(p,r))\n",
    "    A = U @ V.T\n",
    "    return (A, U, V)                        \n",
    "\n",
    "# generate latent response vector \n",
    "def latent_response(A, scale=1): \n",
    "    (n, p) = A.shape \n",
    "    beta = np.random.randn(p) * scale \n",
    "    y = A @ beta\n",
    "    return (y, beta)\n",
    "\n",
    "# generate observations\n",
    "def add_noise(X, sigma=0.2):\n",
    "    return X + np.random.normal(0, sigma, size=X.shape)\n",
    "\n",
    "\"\"\" Compute k \"\"\"\n",
    "def donoho_rank(s, ratio): \n",
    "    \"\"\"\n",
    "    Retain all singular values above optimal threshold as per Donoho & Gavin '14:\n",
    "    https://arxiv.org/pdf/1305.5870.pdf\n",
    "    \"\"\" \n",
    "    omega = 0.56*ratio**3 - 0.95*ratio**2 + 1.43 + 1.82*ratio\n",
    "    t = omega * np.median(s) \n",
    "    rank = max(len(s[s>t]), 1)\n",
    "    return rank \n",
    "\n",
    "def spectral_rank(s, thresh=None):\n",
    "    if thresh==1.0: \n",
    "        rank = len(s)\n",
    "    else: \n",
    "        total_energy = (s**2).cumsum() / (s**2).sum()\n",
    "        rank = list((total_energy>thresh)).index(True) + 1\n",
    "    return rank\n",
    "\n",
    "\"\"\" Algorithms \"\"\"\n",
    "# PCR\n",
    "def pcr(X, y, max_rank=None, thresh=None):\n",
    "    # de-noise X\n",
    "    (u, s, v) = np.linalg.svd(X, full_matrices=False)\n",
    "    if max_rank is not None: \n",
    "        rank = max_rank \n",
    "    if thresh is not None: \n",
    "        rank = _spectral_rank(s, thresh=thresh)\n",
    "    else: \n",
    "        (m, n) = X.shape \n",
    "        rank = donoho_rank(s, ratio=m/n)\n",
    "    s_rank = s[:rank]\n",
    "    u_rank = u[:, :rank]\n",
    "    v_rank = v[:rank, :] \n",
    "    beta = ((v_rank.T/s_rank) @ u_rank.T) @ y\n",
    "    return beta \n",
    "\n",
    "# HSVT\n",
    "def hsvt(X, max_rank=None, thresh=None):\n",
    "    (u, s, v) = np.linalg.svd(X, full_matrices=False)\n",
    "    if max_rank is not None: \n",
    "        rank = max_rank \n",
    "    if thresh is not None: \n",
    "        rank = spectral_rank(s, thresh=thresh)\n",
    "    else: \n",
    "        (m, n) = X.shape \n",
    "        rank = donoho_rank(s, ratio=m/n)\n",
    "    s_rank = s[:rank]\n",
    "    u_rank = u[:, :rank]\n",
    "    v_rank = v[:rank, :] \n",
    "    return (u_rank * s_rank) @ v_rank\n",
    "\n",
    "\"\"\" Evaluation \"\"\"\n",
    "def mean_mse(y1, y2): \n",
    "    return (np.linalg.norm(y1-y2) / np.linalg.norm(y1))**2"
   ]
  },
  {
   "cell_type": "markdown",
   "metadata": {},
   "source": [
    "## Model Identification"
   ]
  },
  {
   "cell_type": "code",
   "execution_count": 3,
   "metadata": {},
   "outputs": [],
   "source": [
    "# data\n",
    "p = 1000\n",
    "r = 15\n",
    "sample_sizes = np.linspace(50, p, 10)\n",
    "sample_sizes = [int(n) for n in sample_sizes]\n",
    "\n",
    "# noise\n",
    "sigma = 0.2 \n",
    "\n",
    "# simulation parameters\n",
    "n_iters = 500\n",
    "\n",
    "# initialize\n",
    "models = ['min norm model', 'random model']\n",
    "errs_dict = {model: np.zeros(len(sample_sizes)) for model in models}\n",
    "\n",
    "# evaluation\n",
    "def mse(beta, beta_hat): \n",
    "    return np.linalg.norm(beta_hat-beta) "
   ]
  },
  {
   "cell_type": "code",
   "execution_count": null,
   "metadata": {},
   "outputs": [
    {
     "name": "stdout",
     "output_type": "stream",
     "text": [
      "Sample size: 50...\n",
      "Sample size: 155...\n",
      "Sample size: 261...\n",
      "Sample size: 366...\n",
      "Sample size: 472...\n"
     ]
    }
   ],
   "source": [
    "# iterate through sample sizes\n",
    "for (idx, n) in enumerate(sample_sizes): \n",
    "    print(\"Sample size: {}...\".format(n))\n",
    "    \n",
    "    # generate underlying data\n",
    "    (A_train, _, _) = train_covariates(n, p, r)\n",
    "    (y_train, beta) = latent_response(A_train)\n",
    "    beta_min = np.linalg.pinv(A_train) @ A_train @ beta\n",
    "    \n",
    "    # iterate through different observation sets\n",
    "    errs_temp = {model: np.zeros(n_iters) for model in models}\n",
    "    \n",
    "    for i in range(n_iters): \n",
    "        \n",
    "        # corrupt data\n",
    "        A_data = add_noise(A_train, sigma=sigma)\n",
    "        y_data = add_noise(y_train, sigma=sigma)\n",
    "        \n",
    "        # PCR with oracle access \n",
    "        beta_hat = pcr(A_data, y_data, max_rank=r)\n",
    "        \n",
    "        # evaluate\n",
    "        errs_temp['random model'][i] = mse(beta_hat, beta) \n",
    "        errs_temp['min norm model'][i] = mse(beta_hat, beta_min)\n",
    "        \n",
    "    # record means\n",
    "    for model in models: \n",
    "        errs_dict[model][idx] = np.mean(errs_temp[model])\n",
    "        \n",
    "print(\"Done!\")"
   ]
  },
  {
   "cell_type": "code",
   "execution_count": null,
   "metadata": {},
   "outputs": [],
   "source": [
    "plt.figure(dpi=100)\n",
    "for model in models:\n",
    "    plt.plot(sample_sizes, errs_dict[model], marker='.', label=model)\n",
    "plt.ylabel('Normalized MSE')\n",
    "plt.xlabel('Sample size $(n)$')\n",
    "plt.title('Model Identification')\n",
    "plt.legend(loc='best')\n",
    "plt.grid(color='grey', alpha=0.3)\n",
    "plt.show()"
   ]
  },
  {
   "cell_type": "code",
   "execution_count": null,
   "metadata": {},
   "outputs": [],
   "source": [
    "plt.figure(dpi=100)\n",
    "for model in models:\n",
    "    plt.plot(sample_sizes, errs_dict[model], marker='.', label=model)\n",
    "plt.ylabel('Normalized MSE')\n",
    "plt.xlabel('Sample size $(n)$')\n",
    "plt.title('Model Identification')\n",
    "plt.legend(loc='best')\n",
    "plt.grid(color='grey', alpha=0.3)\n",
    "plt.yscale(\"log\")\n",
    "plt.show()"
   ]
  },
  {
   "cell_type": "markdown",
   "metadata": {},
   "source": [
    "## Out-of-Sample Prediction: Covariate Shifts"
   ]
  },
  {
   "cell_type": "code",
   "execution_count": 107,
   "metadata": {},
   "outputs": [],
   "source": [
    "# data\n",
    "p = 1000\n",
    "r = 15\n",
    "sample_sizes = np.linspace(50, p, 10)\n",
    "sample_sizes = [int(n) for n in sample_sizes]\n",
    "\n",
    "# noise\n",
    "sigma = 0.2 \n",
    "\n",
    "# simulation parameters\n",
    "n_iters = 100\n",
    "\n",
    "# initialize\n",
    "models = ['normal_1', 'uniform_1', 'normal_10', 'uniform_10']\n",
    "errs_dict = {model: np.zeros(len(sample_sizes)) for model in models}\n",
    "\n",
    "# evaluation\n",
    "def mse(y, y_hat): \n",
    "    return np.mean((y-y_hat)**2)\n",
    "\n",
    "# generate test covariates that obeys subspace inclusion \n",
    "def test_covariates(m, r, V, generative_noise_type):    \n",
    "    V_test = V[:, :r]\n",
    "    if generative_noise_type == 'normal_1':\n",
    "        U_test = np.random.normal(0, 1, size=(m,r))\n",
    "    elif generative_noise_type == 'normal_10':\n",
    "        U_test = np.random.normal(0, 5, size=(m,r))\n",
    "    elif generative_noise_type == 'uniform_1':\n",
    "        U_test = np.random.uniform(-np.sqrt(3), np.sqrt(3), size=(m,r))\n",
    "    elif generative_noise_type == 'uniform_10':\n",
    "        U_test = np.random.uniform(-np.sqrt(15), np.sqrt(15), size=(m,r))\n",
    "    A_test = U_test @ V_test.T   \n",
    "    return (A_test, U_test, V_test) "
   ]
  },
  {
   "cell_type": "code",
   "execution_count": 108,
   "metadata": {},
   "outputs": [
    {
     "name": "stdout",
     "output_type": "stream",
     "text": [
      "Sample size: 50...\n",
      "Model: normal_1...\n",
      "Model: uniform_1...\n",
      "Model: normal_10...\n",
      "Model: uniform_10...\n",
      "\n",
      "Sample size: 155...\n",
      "Model: normal_1...\n",
      "Model: uniform_1...\n",
      "Model: normal_10...\n",
      "Model: uniform_10...\n",
      "\n",
      "Sample size: 261...\n",
      "Model: normal_1...\n",
      "Model: uniform_1...\n",
      "Model: normal_10...\n",
      "Model: uniform_10...\n",
      "\n",
      "Sample size: 366...\n",
      "Model: normal_1...\n",
      "Model: uniform_1...\n",
      "Model: normal_10...\n",
      "Model: uniform_10...\n",
      "\n",
      "Sample size: 472...\n",
      "Model: normal_1...\n",
      "Model: uniform_1...\n",
      "Model: normal_10...\n",
      "Model: uniform_10...\n",
      "\n",
      "Sample size: 577...\n",
      "Model: normal_1...\n",
      "Model: uniform_1...\n",
      "Model: normal_10...\n",
      "Model: uniform_10...\n",
      "\n",
      "Sample size: 683...\n",
      "Model: normal_1...\n",
      "Model: uniform_1...\n",
      "Model: normal_10...\n",
      "Model: uniform_10...\n",
      "\n",
      "Sample size: 788...\n",
      "Model: normal_1...\n",
      "Model: uniform_1...\n",
      "Model: normal_10...\n",
      "Model: uniform_10...\n",
      "\n",
      "Sample size: 894...\n",
      "Model: normal_1...\n",
      "Model: uniform_1...\n",
      "Model: normal_10...\n",
      "Model: uniform_10...\n",
      "\n",
      "Sample size: 1000...\n",
      "Model: normal_1...\n",
      "Model: uniform_1...\n",
      "Model: normal_10...\n",
      "Model: uniform_10...\n",
      "\n",
      "Done!\n"
     ]
    }
   ],
   "source": [
    "# iterate through sample sizes\n",
    "for (idx, n) in enumerate(sample_sizes): \n",
    "    print(\"Sample size: {}...\".format(n))\n",
    "    \n",
    "    # generate underlying data\n",
    "    (A_train, U_train, V_train) = train_covariates(n, p, r)\n",
    "    (y_train, beta) = latent_response(A_train)\n",
    "    \n",
    "    # iterate through noise models\n",
    "    for model in models:\n",
    "        print(\"Model: {}...\".format(model))\n",
    "        \n",
    "        # generate underlying data\n",
    "        (A_test, U_test, V_test) = test_covariates(n, r, V_train, model)\n",
    "        y_test = A_test @ beta\n",
    "        \n",
    "        # initialize \n",
    "        errs_temp = np.zeros(n_iters)\n",
    "        \n",
    "        # iterate through different observation sets \n",
    "        for i in range(n_iters): \n",
    "            \n",
    "            # corrupt data\n",
    "            A_train_data = add_noise(A_train, sigma=sigma)\n",
    "            y_train_data = add_noise(y_train, sigma=sigma)\n",
    "            A_test_data = add_noise(A_test, sigma=sigma)\n",
    "            \n",
    "            # PCR: model identification w/o oracle access \n",
    "            beta_hat = pcr(A_train_data, y_train_data)\n",
    "            \n",
    "            # PCR: OOS prediction w/o oracle access\n",
    "            A_test_hat = hsvt(A_test_data)\n",
    "            y_test_hat = A_test_hat @ beta_hat\n",
    "            \n",
    "            # record error\n",
    "            errs_temp[i] = mse(y_test, y_test_hat)\n",
    "            \n",
    "        # record error\n",
    "        errs_dict[model][idx] = np.mean(errs_temp)\n",
    "    print()\n",
    "print(\"Done!\")"
   ]
  },
  {
   "cell_type": "code",
   "execution_count": 109,
   "metadata": {},
   "outputs": [
    {
     "data": {
      "image/png": "[encoded data removed]",
      "text/plain": [
       "<Figure size 600x400 with 1 Axes>"
      ]
     },
     "metadata": {
      "needs_background": "light"
     },
     "output_type": "display_data"
    }
   ],
   "source": [
    "plt.figure(dpi=100)\n",
    "plt.plot(sample_sizes, errs_dict['normal_1'], marker='.', label= 'Normal$(0, 1)$')\n",
    "plt.plot(sample_sizes, errs_dict['uniform_1'], marker='.', label= 'Uniform$[-\\sqrt{3}, \\sqrt{3}]$')\n",
    "plt.plot(sample_sizes, errs_dict['normal_10'], marker='.', label= 'Normal$(0, 5)$')\n",
    "plt.plot(sample_sizes, errs_dict['uniform_10'], marker='.', label= 'Uniform$[-\\sqrt{15}, \\sqrt{15}]$')\n",
    "plt.ylabel('Out-of-sample MSE')\n",
    "plt.xlabel('Sample size $(n)$')\n",
    "plt.title('PCR under Covariate Shifts')\n",
    "plt.legend(loc='best')\n",
    "plt.yscale(\"log\")\n",
    "plt.grid(color='grey', alpha=0.3)\n",
    "plt.show()"
   ]
  },
  {
   "cell_type": "code",
   "execution_count": null,
   "metadata": {},
   "outputs": [],
   "source": [
    "plt.figure(dpi=100)\n",
    "plt.plot(sample_sizes, errs_dict['normal_1'], marker='.', label= 'Normal$(0, 1)$')\n",
    "plt.plot(sample_sizes, errs_dict['uniform_1'], marker='.', label= 'Uniform$[-\\sqrt{3}, \\sqrt{3}]$')\n",
    "plt.plot(sample_sizes, errs_dict['normal_10'], marker='.', label= 'Normal$(0, 5)$')\n",
    "plt.plot(sample_sizes, errs_dict['uniform_10'], marker='.', label= 'Uniform$[-\\sqrt{15}, \\sqrt{15}]$')\n",
    "plt.ylabel('Out-of-sample MSE')\n",
    "plt.xlabel('Sample size $(n)$')\n",
    "plt.title('PCR under Covariate Shifts')\n",
    "plt.legend(loc='best')\n",
    "plt.yscale(\"log\")\n",
    "plt.grid(color='grey', alpha=0.3)\n",
    "plt.show()"
   ]
  },
  {
   "cell_type": "markdown",
   "metadata": {},
   "source": [
    "## Out-of-Sample Predictions: Subspace Inclusion vs. Distributional Invariance"
   ]
  },
  {
   "cell_type": "code",
   "execution_count": 110,
   "metadata": {},
   "outputs": [],
   "source": [
    "# data\n",
    "p = 1000\n",
    "r = 15\n",
    "sample_sizes = np.linspace(50, p, 10)\n",
    "sample_sizes = [int(n) for n in sample_sizes]\n",
    "\n",
    "# noise\n",
    "sigma = 0.2 \n",
    "\n",
    "# simulation parameters\n",
    "n_iters = 100\n",
    "\n",
    "# initialize\n",
    "models = ['subspace incl.', 'dist. invariance']\n",
    "errs_dict = {model: np.zeros(len(sample_sizes)) for model in models}\n",
    "\n",
    "# evaluation\n",
    "def mse(y, y_hat): \n",
    "    return np.mean((y-y_hat)**2)"
   ]
  },
  {
   "cell_type": "code",
   "execution_count": 111,
   "metadata": {},
   "outputs": [
    {
     "name": "stdout",
     "output_type": "stream",
     "text": [
      "Sample size: 50...\n",
      "Sample size: 155...\n",
      "Sample size: 261...\n",
      "Sample size: 366...\n",
      "Sample size: 472...\n",
      "Sample size: 577...\n",
      "Sample size: 683...\n",
      "Sample size: 788...\n",
      "Sample size: 894...\n",
      "Sample size: 1000...\n",
      "Done!\n"
     ]
    }
   ],
   "source": [
    "# iterate through sample sizes\n",
    "for (idx, n) in enumerate(sample_sizes): \n",
    "    print(\"Sample size: {}...\".format(n))\n",
    "    \n",
    "    # generate train data\n",
    "    (A_train, U_train, V_train) = train_covariates(n, p, r)\n",
    "    (y_train, beta) = latent_response(A_train)\n",
    "        \n",
    "    # generate test data: subspace inclusion\n",
    "    U_test1 = np.random.normal(0, 5, size=(n,r))\n",
    "    A_test1 = U_test1 @ V_train.T\n",
    "    y_test1 = A_test1 @ beta\n",
    "    \n",
    "    # generate test data: dist. invariance\n",
    "    V_test2 = np.random.normal(size=(p,r))\n",
    "    A_test2 = U_train @ V_test2.T\n",
    "    y_test2 = A_test2 @ beta\n",
    "    \n",
    "    # initialize\n",
    "    errs_temp = {model: np.zeros(n_iters) for model in models}\n",
    "    \n",
    "    # iterate through different observation sets \n",
    "    for i in range(n_iters): \n",
    "\n",
    "        # corrupt data\n",
    "        A_train_data = add_noise(A_train, sigma=sigma)\n",
    "        y_train_data = add_noise(y_train, sigma=sigma) \n",
    "        A_test1_data = add_noise(A_test1, sigma=sigma)\n",
    "        A_test2_data = add_noise(A_test2, sigma=sigma)\n",
    "\n",
    "        # PCR: model identification w/o oracle access \n",
    "        beta_hat = pcr(A_train_data, y_train_data)\n",
    "\n",
    "        # PCR: OOS prediction w/o oracle access\n",
    "        A_test1_hat = hsvt(A_test1_data)\n",
    "        y_test1_hat = A_test1_hat @ beta_hat\n",
    "        errs_temp['subspace incl.'][i] = mse(y_test1, y_test1_hat)\n",
    "        \n",
    "        A_test2_hat = hsvt(A_test2_data)\n",
    "        y_test2_hat = A_test2_hat @ beta_hat\n",
    "        errs_temp['dist. invariance'][i] = mse(y_test2, y_test2_hat)\n",
    "  \n",
    "    # record error\n",
    "    errs_dict['subspace incl.'][idx] = np.mean(errs_temp['subspace incl.'])\n",
    "    errs_dict['dist. invariance'][idx] = np.mean(errs_temp['dist. invariance'])\n",
    "    \n",
    "print(\"Done!\")"
   ]
  },
  {
   "cell_type": "code",
   "execution_count": 112,
   "metadata": {},
   "outputs": [
    {
     "data": {
      "image/png": "[encoded data removed]",
      "text/plain": [
       "<Figure size 600x400 with 1 Axes>"
      ]
     },
     "metadata": {
      "needs_background": "light"
     },
     "output_type": "display_data"
    }
   ],
   "source": [
    "plt.figure(dpi=100)\n",
    "for model in models:\n",
    "    plt.plot(sample_sizes, errs_dict[model], marker='.', label=model)\n",
    "plt.ylabel('Out-of-sample MSE')\n",
    "plt.xlabel('Sample size $(n)$')\n",
    "plt.title('PCR under Subspace Inclusion vs. Distributional Invariance')\n",
    "plt.legend(loc='best')\n",
    "plt.grid(color='grey', alpha=0.3)\n",
    "plt.yscale(\"log\")\n",
    "plt.show()"
   ]
  },
  {
   "cell_type": "markdown",
   "metadata": {},
   "source": [
    "# CASE STUDIES"
   ]
  },
  {
   "cell_type": "code",
   "execution_count": 128,
   "metadata": {},
   "outputs": [],
   "source": [
    "import pandas as pd"
   ]
  },
  {
   "cell_type": "markdown",
   "metadata": {},
   "source": [
    "### PROP 99"
   ]
  },
  {
   "cell_type": "code",
   "execution_count": 199,
   "metadata": {},
   "outputs": [],
   "source": [
    "data = 'Prop99'\n",
    "alpha = 0.05\n",
    "\n",
    "if data=='Basque':\n",
    "    treated_unit = 'Basque'\n",
    "elif data=='Prop99':\n",
    "    treated_unit = 'California'"
   ]
  },
  {
   "cell_type": "code",
   "execution_count": 200,
   "metadata": {},
   "outputs": [],
   "source": [
    "fname_pre = 'data/{}/pre_outcomes.csv'.format(data)\n",
    "fname_post = 'data/{}/post_outcomes.csv'.format(data)\n",
    "df_pre = pd.read_csv(fname_pre)\n",
    "df_post = pd.read_csv(fname_post) "
   ]
  },
  {
   "cell_type": "code",
   "execution_count": 201,
   "metadata": {},
   "outputs": [
    {
     "name": "stdout",
     "output_type": "stream",
     "text": [
      "data configuration: (38, 18)\n"
     ]
    }
   ],
   "source": [
    "# unit data\n",
    "units = df_post.unit.unique() \n",
    "donors = units[units!=treated_unit]\n",
    "N0 = len(donors)\n",
    "N = N0 + 1 \n",
    "\n",
    "# time data \n",
    "pre_cols = list(df_pre.drop(columns=['unit']).columns)\n",
    "post_cols = list(df_post.drop(columns=['unit']).columns) \n",
    "T0 = len(pre_cols)\n",
    "T1 = len(post_cols)\n",
    "T = T0 + T1 \n",
    "print(\"data configuration: ({}, {})\".format(N0, T0))"
   ]
  },
  {
   "cell_type": "code",
   "execution_count": 202,
   "metadata": {},
   "outputs": [
    {
     "name": "stdout",
     "output_type": "stream",
     "text": [
      "Rank of pre: 4\n",
      "Rank of post: 3\n",
      "tau(alpha): 0.150\n"
     ]
    }
   ],
   "source": [
    "def estimate_rank(Y):\n",
    "    (m, n) = Y.shape\n",
    "    (_, s, _) = np.linalg.svd(Y, full_matrices=False)\n",
    "    return donoho_rank(s, ratio=m/n)\n",
    "\n",
    "Y0 = df_pre.loc[df_pre['unit'].isin(donors)].drop(columns=['unit']).values.T \n",
    "Y1 = df_post.loc[df_post['unit'].isin(donors)].drop(columns=['unit']).values.T \n",
    "rank_pre = estimate_rank(Y0)\n",
    "rank_post = estimate_rank(Y1)\n",
    "print(\"Rank of pre: {}\".format(rank_pre))\n",
    "print(\"Rank of post: {}\".format(rank_post))\n",
    "print(\"tau(alpha): {:.3f}\".format(alpha*rank_post))"
   ]
  },
  {
   "cell_type": "code",
   "execution_count": 203,
   "metadata": {},
   "outputs": [],
   "source": [
    "def compute_tau_hat(X_train, X_test): \n",
    "    # train\n",
    "    H_train = np.linalg.pinv(X_train) @ X_train\n",
    "    H_train_perp = np.eye(X_train.shape[1]) - H_train\n",
    "    \n",
    "    # test\n",
    "    H_test = np.linalg.pinv(X_test) @ X_test\n",
    "    return np.linalg.norm(H_train_perp @ H_test, 'fro') ** 2"
   ]
  },
  {
   "cell_type": "code",
   "execution_count": 204,
   "metadata": {},
   "outputs": [
    {
     "name": "stdout",
     "output_type": "stream",
     "text": [
      "tau_hat: 1.626\n"
     ]
    }
   ],
   "source": [
    "Y0_hsvt = hsvt(Y0)\n",
    "Y1_hsvt = hsvt(Y1)\n",
    "tau_hat = compute_tau_hat(Y0_hsvt, Y1_hsvt)\n",
    "print(\"tau_hat: {:.3f}\".format(tau_hat))"
   ]
  },
  {
   "cell_type": "code",
   "execution_count": null,
   "metadata": {},
   "outputs": [],
   "source": []
  },
  {
   "cell_type": "code",
   "execution_count": null,
   "metadata": {},
   "outputs": [],
   "source": []
  },
  {
   "cell_type": "code",
   "execution_count": null,
   "metadata": {},
   "outputs": [],
   "source": []
  },
  {
   "cell_type": "code",
   "execution_count": null,
   "metadata": {},
   "outputs": [],
   "source": []
  },
  {
   "cell_type": "code",
   "execution_count": null,
   "metadata": {},
   "outputs": [],
   "source": []
  },
  {
   "cell_type": "code",
   "execution_count": null,
   "metadata": {},
   "outputs": [],
   "source": []
  }
 ],
 "metadata": {
  "kernelspec": {
   "display_name": "Python 3",
   "language": "python",
   "name": "python3"
  },
  "language_info": {
   "codemirror_mode": {
    "name": "ipython",
    "version": 3
   },
   "file_extension": ".py",
   "mimetype": "text/x-python",
   "name": "python",
   "nbconvert_exporter": "python",
   "pygments_lexer": "ipython3",
   "version": "3.7.4"
  }
 },
 "nbformat": 4,
 "nbformat_minor": 2
}
